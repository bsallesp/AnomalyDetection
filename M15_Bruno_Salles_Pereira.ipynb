{
  "nbformat": 4,
  "nbformat_minor": 0,
  "metadata": {
    "colab": {
      "name": "M15 - Bruno Salles Pereira.ipynb",
      "provenance": [],
      "collapsed_sections": [
        "scjJF29vrwVI",
        "vvnRE0Fep7th",
        "2fizrhb8phUV",
        "xyp32Ozsry5b",
        "76pnPBH4q-xu",
        "13XJ23L5psg5",
        "tKuE9qrxr6e2",
        "Y0Ke-ipaV2r1",
        "gGYfKbUdWLuH",
        "RvDy20ckXp2o",
        "SiEVi24MWT2M",
        "WrtR4gOiWx_2"
      ],
      "authorship_tag": "ABX9TyMrI0sTJ547PxLbEbLPKiJD",
      "include_colab_link": true
    },
    "kernelspec": {
      "name": "python3",
      "display_name": "Python 3"
    },
    "language_info": {
      "name": "python"
    }
  },
  "cells": [
    {
      "cell_type": "markdown",
      "metadata": {
        "id": "view-in-github",
        "colab_type": "text"
      },
      "source": [
        "<a href=\"https://colab.research.google.com/github/bsallesp/AnomalyDetection/blob/main/M15_Bruno_Salles_Pereira.ipynb\" target=\"_parent\"><img src=\"https://colab.research.google.com/assets/colab-badge.svg\" alt=\"Open In Colab\"/></a>"
      ]
    },
    {
      "cell_type": "markdown",
      "metadata": {
        "id": "scjJF29vrwVI"
      },
      "source": [
        "## Preprocessing:"
      ]
    },
    {
      "cell_type": "markdown",
      "metadata": {
        "id": "vvnRE0Fep7th"
      },
      "source": [
        "### Unpacking resources and files:"
      ]
    },
    {
      "cell_type": "code",
      "metadata": {
        "id": "RyEkRHDXn_0w"
      },
      "source": [
        "import pandas as pd\n",
        "import numpy as np\n",
        "import matplotlib.pyplot as plt\n",
        "from google.colab import drive"
      ],
      "execution_count": null,
      "outputs": []
    },
    {
      "cell_type": "code",
      "metadata": {
        "id": "1ofTjmgkYTat",
        "colab": {
          "base_uri": "https://localhost:8080/"
        },
        "outputId": "94445b08-243b-4680-ce3b-1c4893ed1497"
      },
      "source": [
        "drive.mount('/drive')\n",
        "def getData():\n",
        "    r_cols = ['user_id', 'movie_id', 'rating', 'unix_timestamp']\n",
        "    ratings = pd.read_csv('/drive/MyDrive/ColabNotebooks/Mentorama/M15/u.data', sep='\\t', names=r_cols,\n",
        "                          encoding='latin-1')\n",
        "    m_cols = ['movie_id', 'title', 'release_date', 'video_release_date', 'imdb_url']\n",
        "    movies = pd.read_csv('/drive/MyDrive/ColabNotebooks/Mentorama/M15/u.item', sep='|', names=m_cols, usecols=range(5),\n",
        "                         encoding='latin-1')\n",
        "    movie_ratings = pd.merge(movies, ratings)\n",
        "    temp = movie_ratings[['movie_id', 'user_id', 'rating']].copy()\n",
        "    temp = temp.pivot_table(columns='movie_id', index='user_id', values='rating').copy()\n",
        "    temp.index = ['User_'+str(int(i)) for i in temp.index]\n",
        "    temp.columns = ['Filme_'+str(int(i)) for i in temp.columns]\n",
        "    qtd_cols = 80\n",
        "    R = temp.iloc[:, :qtd_cols]\n",
        "    l=[]\n",
        "    for i in range(1, R.shape[0]+1):\n",
        "        if R.iloc[i-1, ].isnull().sum() >= (qtd_cols - 10):\n",
        "            l.append(i)\n",
        "    R = R.drop([\"User_\"+str(r) for r in l])\n",
        "    R.index = ['User_'+str(int(i)) for i in range(R.shape[0])]\n",
        "    return R"
      ],
      "execution_count": null,
      "outputs": [
        {
          "output_type": "stream",
          "text": [
            "Drive already mounted at /drive; to attempt to forcibly remount, call drive.mount(\"/drive\", force_remount=True).\n"
          ],
          "name": "stdout"
        }
      ]
    },
    {
      "cell_type": "markdown",
      "metadata": {
        "id": "2fizrhb8phUV"
      },
      "source": [
        "### Class MatrixFactorization:"
      ]
    },
    {
      "cell_type": "code",
      "metadata": {
        "id": "KAqsE-JWYTau"
      },
      "source": [
        "import time\n",
        "\n",
        "class MatrixFactorization():\n",
        "    \n",
        "    def __init__(self, dataframe, K, steps, alpha, beta):\n",
        "        self.df = dataframe\n",
        "        self.K = K\n",
        "        self.steps = steps\n",
        "        self.alpha = alpha\n",
        "        self.beta = beta\n",
        "        \n",
        "    def fit(self, print_ = False):\n",
        "        t0 = time.time()\n",
        "        \n",
        "        R = self.df.values\n",
        "        N, M = R.shape\n",
        "        \n",
        "        #inicio aleatorio\n",
        "        P = np.random.rand(N,self.K)\n",
        "        Q = np.random.rand(self.K,M)\n",
        "        \n",
        "        lista_erro_step = []\n",
        "        \n",
        "        #loop\n",
        "        for step in range(self.steps):\n",
        "            \n",
        "            mse_total_step = 0\n",
        "            #varrendo todas as entradas da matriz R\n",
        "            for i in range(len(R)):\n",
        "                for j in range(len(R[i])):\n",
        "                    #validando se o valor associado está preenchido\n",
        "                    if R[i][j] > 0:\n",
        "\n",
        "                        #calculando o erro:\n",
        "                        eij = R[i][j] - np.dot(P[i,:],Q[:,j])\n",
        "                        mse_total_step += (eij)**2\n",
        "                        #alterando os valores\n",
        "                        for k in range(self.K):\n",
        "                            P[i][k] = P[i][k] + self.alpha * ( 2 * eij * Q[k][j] - self.beta * P[i][k])\n",
        "                            Q[k][j] = Q[k][j] + self.alpha * ( 2 * eij * P[i][k] - self.beta * Q[k][j])\n",
        "                            \n",
        "            lista_erro_step.append(mse_total_step)\n",
        "            \n",
        "        self.P = P\n",
        "        self.Q = Q\n",
        "        self.lista_erro_step = lista_erro_step\n",
        "        t1 = time.time()\n",
        "        if print_== True:\n",
        "          print(\"Fatoração concluída. Tempo aproximado:\", int((t1-t0)/60)+1, 'minuto(s).')\n",
        "        \n",
        "    def predict(self):\n",
        "        return self.P.dot(self.Q)\n",
        "    \n",
        "    def print_MSE_steps(self):\n",
        "        plt.figure(figsize=[15,6])\n",
        "        plt.title(\"Custo total por Step\", fontsize = 16, fontweight = 'bold')\n",
        "        plt.xlabel(\"Step\", fontsize = 14, fontweight = 'bold')\n",
        "        plt.ylabel(\"Erro\", fontsize = 14, fontweight = 'bold')\n",
        "        plt.plot(range(1, 1+self.steps), self.lista_erro_step, c = 'blue', lw = 2)\n",
        "        plt.grid()\n",
        "        plt.show()"
      ],
      "execution_count": null,
      "outputs": []
    },
    {
      "cell_type": "markdown",
      "metadata": {
        "id": "xyp32Ozsry5b"
      },
      "source": [
        "### grid_search / make_chess:"
      ]
    },
    {
      "cell_type": "code",
      "metadata": {
        "id": "x0YtMcxFCp-b"
      },
      "source": [
        "def grid_search(train, test, param_grid, print_ = False, clean_ = False):\n",
        "  from itertools import product\n",
        "  from IPython.display import clear_output \n",
        "  results = []\n",
        "  count = 0\n",
        "\n",
        "  for param in product(*param_grid):\n",
        "    \n",
        "    fat = MatrixFactorization(dataframe = pd.DataFrame(train), K = param[0], steps = param[1], alpha = param[2], beta = param[3])\n",
        "    fat.fit()\n",
        "    mse = make_chess(val, fat.predict(), mse_ = True)\n",
        "    results.append([param, mse])\n",
        "    if print_ == True:\n",
        "      print(f\"Lap {count + 1} / {total_loops}:\")\n",
        "      print(f\"K = {param[0]}\")\n",
        "      print(f\"steps = {param[1]}\")\n",
        "      print(f\"alpha = {param[2]}\")\n",
        "      print(f\"beta = {param[3]}\")\n",
        "      print(f\"MSE = {mse}\")\n",
        "      print(\"_\" * 75)\n",
        "      count = count + 1\n",
        "\n",
        "    if clean_ == True:\n",
        "      clear_output()\n",
        "\n",
        "  \n",
        "  \n",
        "  return results"
      ],
      "execution_count": null,
      "outputs": []
    },
    {
      "cell_type": "code",
      "metadata": {
        "id": "AYHSnL8xCvPC"
      },
      "source": [
        "# Select only pred position cells, and return new dataframe with pred position only:\n",
        "def make_chess(df_true, df_pred, print_ = False, mse_ = True, dfs_ = False):\n",
        "  # new df instances\n",
        "  clean_df_true = np.array(df_true.copy())\n",
        "  clean_df_pred = np.array(df_pred.copy())\n",
        "  count = 0\n",
        "  \n",
        "  for i in range(0, len(df_true[0])):\n",
        "    for j in range(0, len(df_true[1])):\n",
        "      if df_true[i][j] == 0:\n",
        "        clean_df_pred[i][j] = 0\n",
        "        clean_df_true[i][j] = 0\n",
        "        count = count + 1\n",
        "\n",
        "  if print_ == True:\n",
        "    total_count_pred = (df_true.shape[0] * df_true.shape[1]) - count\n",
        "    total_count_original = df_true.shape[0] * df_true.shape[1]\n",
        "    print(\"Total de instancias no dataset original: \", total_count_original)\n",
        "    print(\"Total de instancias zeradas: \", count)\n",
        "    print(\"Total de predicoes em pred e val: \", total_count_pred)\n",
        "    print(\"% de predicoes em pred e val em comparacao ao dataset original:\", round(((total_count_pred / total_count_original * 100)-100)*-1, 2),\"%\")\n",
        "  \n",
        "  if dfs_ == True:\n",
        "    return clean_df_true, clean_df_pred\n",
        "\n",
        "  if mse_ == True:\n",
        "    from sklearn import metrics\n",
        "    mse = metrics.mean_absolute_error(clean_df_true, clean_df_pred)\n",
        "    return mse"
      ],
      "execution_count": null,
      "outputs": []
    },
    {
      "cell_type": "markdown",
      "metadata": {
        "id": "76pnPBH4q-xu"
      },
      "source": [
        "### train_test_split:"
      ]
    },
    {
      "cell_type": "code",
      "metadata": {
        "id": "b9182V2Rq_Uy"
      },
      "source": [
        "def train_test_split(ratings, qtd):\n",
        "    test = np.zeros(ratings.shape)\n",
        "    train = ratings.copy()\n",
        "    for user in range(ratings.shape[0]):\n",
        "        test_ratings = np.random.choice(ratings[user, :].nonzero()[0], \n",
        "                                        size=qtd, \n",
        "                                        replace=False)\n",
        "        train[user, test_ratings] = 0.\n",
        "        test[user, test_ratings] = ratings[user, test_ratings]\n",
        "        \n",
        "    return train, test"
      ],
      "execution_count": null,
      "outputs": []
    },
    {
      "cell_type": "markdown",
      "metadata": {
        "id": "13XJ23L5psg5"
      },
      "source": [
        "### Data splitting:"
      ]
    },
    {
      "cell_type": "code",
      "metadata": {
        "colab": {
          "base_uri": "https://localhost:8080/"
        },
        "id": "dHC2ANvWrouj",
        "outputId": "464882ec-5b69-495e-9aa2-a22a88a4d399"
      },
      "source": [
        "R = getData()\n",
        "print(R.shape)\n",
        "R.sample(3)"
      ],
      "execution_count": null,
      "outputs": [
        {
          "output_type": "stream",
          "text": [
            "(367, 80)\n"
          ],
          "name": "stdout"
        },
        {
          "output_type": "execute_result",
          "data": {
            "text/html": [
              "<div>\n",
              "<style scoped>\n",
              "    .dataframe tbody tr th:only-of-type {\n",
              "        vertical-align: middle;\n",
              "    }\n",
              "\n",
              "    .dataframe tbody tr th {\n",
              "        vertical-align: top;\n",
              "    }\n",
              "\n",
              "    .dataframe thead th {\n",
              "        text-align: right;\n",
              "    }\n",
              "</style>\n",
              "<table border=\"1\" class=\"dataframe\">\n",
              "  <thead>\n",
              "    <tr style=\"text-align: right;\">\n",
              "      <th></th>\n",
              "      <th>Filme_1</th>\n",
              "      <th>Filme_2</th>\n",
              "      <th>Filme_3</th>\n",
              "      <th>Filme_4</th>\n",
              "      <th>Filme_5</th>\n",
              "      <th>Filme_6</th>\n",
              "      <th>Filme_7</th>\n",
              "      <th>Filme_8</th>\n",
              "      <th>Filme_9</th>\n",
              "      <th>Filme_10</th>\n",
              "      <th>Filme_11</th>\n",
              "      <th>Filme_12</th>\n",
              "      <th>Filme_13</th>\n",
              "      <th>Filme_14</th>\n",
              "      <th>Filme_15</th>\n",
              "      <th>Filme_16</th>\n",
              "      <th>Filme_17</th>\n",
              "      <th>Filme_18</th>\n",
              "      <th>Filme_19</th>\n",
              "      <th>Filme_20</th>\n",
              "      <th>Filme_21</th>\n",
              "      <th>Filme_22</th>\n",
              "      <th>Filme_23</th>\n",
              "      <th>Filme_24</th>\n",
              "      <th>Filme_25</th>\n",
              "      <th>Filme_26</th>\n",
              "      <th>Filme_27</th>\n",
              "      <th>Filme_28</th>\n",
              "      <th>Filme_29</th>\n",
              "      <th>Filme_30</th>\n",
              "      <th>Filme_31</th>\n",
              "      <th>Filme_32</th>\n",
              "      <th>Filme_33</th>\n",
              "      <th>Filme_34</th>\n",
              "      <th>Filme_35</th>\n",
              "      <th>Filme_36</th>\n",
              "      <th>Filme_37</th>\n",
              "      <th>Filme_38</th>\n",
              "      <th>Filme_39</th>\n",
              "      <th>Filme_40</th>\n",
              "      <th>Filme_41</th>\n",
              "      <th>Filme_42</th>\n",
              "      <th>Filme_43</th>\n",
              "      <th>Filme_44</th>\n",
              "      <th>Filme_45</th>\n",
              "      <th>Filme_46</th>\n",
              "      <th>Filme_47</th>\n",
              "      <th>Filme_48</th>\n",
              "      <th>Filme_49</th>\n",
              "      <th>Filme_50</th>\n",
              "      <th>Filme_51</th>\n",
              "      <th>Filme_52</th>\n",
              "      <th>Filme_53</th>\n",
              "      <th>Filme_54</th>\n",
              "      <th>Filme_55</th>\n",
              "      <th>Filme_56</th>\n",
              "      <th>Filme_57</th>\n",
              "      <th>Filme_58</th>\n",
              "      <th>Filme_59</th>\n",
              "      <th>Filme_60</th>\n",
              "      <th>Filme_61</th>\n",
              "      <th>Filme_62</th>\n",
              "      <th>Filme_63</th>\n",
              "      <th>Filme_64</th>\n",
              "      <th>Filme_65</th>\n",
              "      <th>Filme_66</th>\n",
              "      <th>Filme_67</th>\n",
              "      <th>Filme_68</th>\n",
              "      <th>Filme_69</th>\n",
              "      <th>Filme_70</th>\n",
              "      <th>Filme_71</th>\n",
              "      <th>Filme_72</th>\n",
              "      <th>Filme_73</th>\n",
              "      <th>Filme_74</th>\n",
              "      <th>Filme_75</th>\n",
              "      <th>Filme_76</th>\n",
              "      <th>Filme_77</th>\n",
              "      <th>Filme_78</th>\n",
              "      <th>Filme_79</th>\n",
              "      <th>Filme_80</th>\n",
              "    </tr>\n",
              "  </thead>\n",
              "  <tbody>\n",
              "    <tr>\n",
              "      <th>User_299</th>\n",
              "      <td>4.0</td>\n",
              "      <td>NaN</td>\n",
              "      <td>1.0</td>\n",
              "      <td>NaN</td>\n",
              "      <td>NaN</td>\n",
              "      <td>NaN</td>\n",
              "      <td>NaN</td>\n",
              "      <td>4.0</td>\n",
              "      <td>2.0</td>\n",
              "      <td>NaN</td>\n",
              "      <td>NaN</td>\n",
              "      <td>NaN</td>\n",
              "      <td>NaN</td>\n",
              "      <td>NaN</td>\n",
              "      <td>NaN</td>\n",
              "      <td>NaN</td>\n",
              "      <td>NaN</td>\n",
              "      <td>NaN</td>\n",
              "      <td>NaN</td>\n",
              "      <td>NaN</td>\n",
              "      <td>NaN</td>\n",
              "      <td>3.0</td>\n",
              "      <td>NaN</td>\n",
              "      <td>NaN</td>\n",
              "      <td>NaN</td>\n",
              "      <td>NaN</td>\n",
              "      <td>NaN</td>\n",
              "      <td>NaN</td>\n",
              "      <td>NaN</td>\n",
              "      <td>4.0</td>\n",
              "      <td>NaN</td>\n",
              "      <td>NaN</td>\n",
              "      <td>NaN</td>\n",
              "      <td>NaN</td>\n",
              "      <td>NaN</td>\n",
              "      <td>NaN</td>\n",
              "      <td>NaN</td>\n",
              "      <td>NaN</td>\n",
              "      <td>NaN</td>\n",
              "      <td>NaN</td>\n",
              "      <td>NaN</td>\n",
              "      <td>NaN</td>\n",
              "      <td>NaN</td>\n",
              "      <td>NaN</td>\n",
              "      <td>NaN</td>\n",
              "      <td>NaN</td>\n",
              "      <td>NaN</td>\n",
              "      <td>NaN</td>\n",
              "      <td>NaN</td>\n",
              "      <td>4.0</td>\n",
              "      <td>NaN</td>\n",
              "      <td>NaN</td>\n",
              "      <td>3.0</td>\n",
              "      <td>NaN</td>\n",
              "      <td>5.0</td>\n",
              "      <td>NaN</td>\n",
              "      <td>NaN</td>\n",
              "      <td>NaN</td>\n",
              "      <td>NaN</td>\n",
              "      <td>NaN</td>\n",
              "      <td>NaN</td>\n",
              "      <td>NaN</td>\n",
              "      <td>3.0</td>\n",
              "      <td>NaN</td>\n",
              "      <td>NaN</td>\n",
              "      <td>4.0</td>\n",
              "      <td>NaN</td>\n",
              "      <td>NaN</td>\n",
              "      <td>NaN</td>\n",
              "      <td>NaN</td>\n",
              "      <td>3.0</td>\n",
              "      <td>NaN</td>\n",
              "      <td>NaN</td>\n",
              "      <td>NaN</td>\n",
              "      <td>NaN</td>\n",
              "      <td>NaN</td>\n",
              "      <td>NaN</td>\n",
              "      <td>NaN</td>\n",
              "      <td>4.0</td>\n",
              "      <td>NaN</td>\n",
              "    </tr>\n",
              "    <tr>\n",
              "      <th>User_316</th>\n",
              "      <td>4.0</td>\n",
              "      <td>3.0</td>\n",
              "      <td>2.0</td>\n",
              "      <td>NaN</td>\n",
              "      <td>NaN</td>\n",
              "      <td>2.0</td>\n",
              "      <td>NaN</td>\n",
              "      <td>NaN</td>\n",
              "      <td>NaN</td>\n",
              "      <td>NaN</td>\n",
              "      <td>NaN</td>\n",
              "      <td>5.0</td>\n",
              "      <td>NaN</td>\n",
              "      <td>3.0</td>\n",
              "      <td>NaN</td>\n",
              "      <td>NaN</td>\n",
              "      <td>4.0</td>\n",
              "      <td>NaN</td>\n",
              "      <td>NaN</td>\n",
              "      <td>NaN</td>\n",
              "      <td>NaN</td>\n",
              "      <td>NaN</td>\n",
              "      <td>NaN</td>\n",
              "      <td>3.0</td>\n",
              "      <td>NaN</td>\n",
              "      <td>NaN</td>\n",
              "      <td>NaN</td>\n",
              "      <td>3.0</td>\n",
              "      <td>4.0</td>\n",
              "      <td>NaN</td>\n",
              "      <td>NaN</td>\n",
              "      <td>NaN</td>\n",
              "      <td>NaN</td>\n",
              "      <td>NaN</td>\n",
              "      <td>NaN</td>\n",
              "      <td>NaN</td>\n",
              "      <td>NaN</td>\n",
              "      <td>NaN</td>\n",
              "      <td>NaN</td>\n",
              "      <td>NaN</td>\n",
              "      <td>NaN</td>\n",
              "      <td>NaN</td>\n",
              "      <td>NaN</td>\n",
              "      <td>NaN</td>\n",
              "      <td>4.0</td>\n",
              "      <td>NaN</td>\n",
              "      <td>4.0</td>\n",
              "      <td>NaN</td>\n",
              "      <td>NaN</td>\n",
              "      <td>5.0</td>\n",
              "      <td>NaN</td>\n",
              "      <td>NaN</td>\n",
              "      <td>NaN</td>\n",
              "      <td>NaN</td>\n",
              "      <td>NaN</td>\n",
              "      <td>5.0</td>\n",
              "      <td>NaN</td>\n",
              "      <td>NaN</td>\n",
              "      <td>NaN</td>\n",
              "      <td>NaN</td>\n",
              "      <td>NaN</td>\n",
              "      <td>NaN</td>\n",
              "      <td>NaN</td>\n",
              "      <td>NaN</td>\n",
              "      <td>NaN</td>\n",
              "      <td>NaN</td>\n",
              "      <td>NaN</td>\n",
              "      <td>NaN</td>\n",
              "      <td>NaN</td>\n",
              "      <td>2.0</td>\n",
              "      <td>NaN</td>\n",
              "      <td>NaN</td>\n",
              "      <td>NaN</td>\n",
              "      <td>NaN</td>\n",
              "      <td>NaN</td>\n",
              "      <td>3.0</td>\n",
              "      <td>NaN</td>\n",
              "      <td>NaN</td>\n",
              "      <td>3.0</td>\n",
              "      <td>NaN</td>\n",
              "    </tr>\n",
              "    <tr>\n",
              "      <th>User_341</th>\n",
              "      <td>5.0</td>\n",
              "      <td>NaN</td>\n",
              "      <td>NaN</td>\n",
              "      <td>4.0</td>\n",
              "      <td>NaN</td>\n",
              "      <td>NaN</td>\n",
              "      <td>4.0</td>\n",
              "      <td>5.0</td>\n",
              "      <td>NaN</td>\n",
              "      <td>NaN</td>\n",
              "      <td>4.0</td>\n",
              "      <td>NaN</td>\n",
              "      <td>NaN</td>\n",
              "      <td>NaN</td>\n",
              "      <td>5.0</td>\n",
              "      <td>NaN</td>\n",
              "      <td>NaN</td>\n",
              "      <td>NaN</td>\n",
              "      <td>NaN</td>\n",
              "      <td>NaN</td>\n",
              "      <td>2.0</td>\n",
              "      <td>NaN</td>\n",
              "      <td>NaN</td>\n",
              "      <td>NaN</td>\n",
              "      <td>2.0</td>\n",
              "      <td>NaN</td>\n",
              "      <td>NaN</td>\n",
              "      <td>5.0</td>\n",
              "      <td>NaN</td>\n",
              "      <td>NaN</td>\n",
              "      <td>NaN</td>\n",
              "      <td>NaN</td>\n",
              "      <td>2.0</td>\n",
              "      <td>NaN</td>\n",
              "      <td>NaN</td>\n",
              "      <td>NaN</td>\n",
              "      <td>NaN</td>\n",
              "      <td>NaN</td>\n",
              "      <td>NaN</td>\n",
              "      <td>NaN</td>\n",
              "      <td>NaN</td>\n",
              "      <td>NaN</td>\n",
              "      <td>NaN</td>\n",
              "      <td>NaN</td>\n",
              "      <td>NaN</td>\n",
              "      <td>NaN</td>\n",
              "      <td>NaN</td>\n",
              "      <td>NaN</td>\n",
              "      <td>NaN</td>\n",
              "      <td>5.0</td>\n",
              "      <td>NaN</td>\n",
              "      <td>NaN</td>\n",
              "      <td>NaN</td>\n",
              "      <td>NaN</td>\n",
              "      <td>NaN</td>\n",
              "      <td>4.0</td>\n",
              "      <td>NaN</td>\n",
              "      <td>NaN</td>\n",
              "      <td>NaN</td>\n",
              "      <td>NaN</td>\n",
              "      <td>NaN</td>\n",
              "      <td>NaN</td>\n",
              "      <td>NaN</td>\n",
              "      <td>NaN</td>\n",
              "      <td>NaN</td>\n",
              "      <td>4.0</td>\n",
              "      <td>NaN</td>\n",
              "      <td>NaN</td>\n",
              "      <td>5.0</td>\n",
              "      <td>3.0</td>\n",
              "      <td>5.0</td>\n",
              "      <td>NaN</td>\n",
              "      <td>NaN</td>\n",
              "      <td>NaN</td>\n",
              "      <td>NaN</td>\n",
              "      <td>NaN</td>\n",
              "      <td>NaN</td>\n",
              "      <td>NaN</td>\n",
              "      <td>5.0</td>\n",
              "      <td>NaN</td>\n",
              "    </tr>\n",
              "  </tbody>\n",
              "</table>\n",
              "</div>"
            ],
            "text/plain": [
              "          Filme_1  Filme_2  Filme_3  ...  Filme_78  Filme_79  Filme_80\n",
              "User_299      4.0      NaN      1.0  ...       NaN       4.0       NaN\n",
              "User_316      4.0      3.0      2.0  ...       NaN       3.0       NaN\n",
              "User_341      5.0      NaN      NaN  ...       NaN       5.0       NaN\n",
              "\n",
              "[3 rows x 80 columns]"
            ]
          },
          "metadata": {
            "tags": []
          },
          "execution_count": 172
        }
      ]
    },
    {
      "cell_type": "code",
      "metadata": {
        "colab": {
          "base_uri": "https://localhost:8080/"
        },
        "id": "VNdQGyErroHL",
        "outputId": "1ade0ccb-13e9-41bf-feaa-283ca67354cc"
      },
      "source": [
        "ratings = R.fillna(0).values\n",
        "ratings"
      ],
      "execution_count": null,
      "outputs": [
        {
          "output_type": "execute_result",
          "data": {
            "text/plain": [
              "array([[5., 3., 4., ..., 1., 4., 4.],\n",
              "       [4., 3., 0., ..., 0., 3., 2.],\n",
              "       [4., 0., 0., ..., 0., 3., 0.],\n",
              "       ...,\n",
              "       [4., 0., 4., ..., 0., 0., 0.],\n",
              "       [0., 0., 0., ..., 0., 0., 0.],\n",
              "       [0., 5., 0., ..., 0., 5., 2.]])"
            ]
          },
          "metadata": {
            "tags": []
          },
          "execution_count": 173
        }
      ]
    },
    {
      "cell_type": "code",
      "metadata": {
        "id": "FFhzx-e0oFMi"
      },
      "source": [
        "train, test = train_test_split(ratings, qtd = 2)\n",
        "train, val = train_test_split(train, qtd = 2)"
      ],
      "execution_count": null,
      "outputs": []
    },
    {
      "cell_type": "code",
      "metadata": {
        "colab": {
          "base_uri": "https://localhost:8080/"
        },
        "id": "tUOwV9QME7b_",
        "outputId": "1e39a5be-af58-469f-c491-4f745a8d3880"
      },
      "source": [
        "train"
      ],
      "execution_count": null,
      "outputs": [
        {
          "output_type": "execute_result",
          "data": {
            "text/plain": [
              "array([[5., 3., 4., ..., 1., 4., 4.],\n",
              "       [4., 0., 0., ..., 0., 3., 2.],\n",
              "       [4., 0., 0., ..., 0., 3., 0.],\n",
              "       ...,\n",
              "       [4., 0., 0., ..., 0., 0., 0.],\n",
              "       [0., 0., 0., ..., 0., 0., 0.],\n",
              "       [0., 5., 0., ..., 0., 0., 2.]])"
            ]
          },
          "metadata": {
            "tags": []
          },
          "execution_count": 175
        }
      ]
    },
    {
      "cell_type": "code",
      "metadata": {
        "colab": {
          "base_uri": "https://localhost:8080/"
        },
        "id": "SnLyx5STE7fQ",
        "outputId": "dff2d09e-53fb-4ea5-d710-ad30af83df9e"
      },
      "source": [
        "val"
      ],
      "execution_count": null,
      "outputs": [
        {
          "output_type": "execute_result",
          "data": {
            "text/plain": [
              "array([[0., 0., 0., ..., 0., 0., 0.],\n",
              "       [0., 0., 0., ..., 0., 0., 0.],\n",
              "       [0., 0., 0., ..., 0., 0., 0.],\n",
              "       ...,\n",
              "       [0., 0., 4., ..., 0., 0., 0.],\n",
              "       [0., 0., 0., ..., 0., 0., 0.],\n",
              "       [0., 0., 0., ..., 0., 5., 0.]])"
            ]
          },
          "metadata": {
            "tags": []
          },
          "execution_count": 176
        }
      ]
    },
    {
      "cell_type": "code",
      "metadata": {
        "colab": {
          "base_uri": "https://localhost:8080/"
        },
        "id": "Yk27GrjSE7iY",
        "outputId": "14a9a7da-9886-4db7-afa4-44f71355fab3"
      },
      "source": [
        "test"
      ],
      "execution_count": null,
      "outputs": [
        {
          "output_type": "execute_result",
          "data": {
            "text/plain": [
              "array([[0., 0., 0., ..., 0., 0., 0.],\n",
              "       [0., 3., 0., ..., 0., 0., 0.],\n",
              "       [0., 0., 0., ..., 0., 0., 0.],\n",
              "       ...,\n",
              "       [0., 0., 0., ..., 0., 0., 0.],\n",
              "       [0., 0., 0., ..., 0., 0., 0.],\n",
              "       [0., 0., 0., ..., 0., 0., 0.]])"
            ]
          },
          "metadata": {
            "tags": []
          },
          "execution_count": 177
        }
      ]
    },
    {
      "cell_type": "markdown",
      "metadata": {
        "id": "tKuE9qrxr6e2"
      },
      "source": [
        "## Model training:"
      ]
    },
    {
      "cell_type": "markdown",
      "metadata": {
        "id": "Y0Ke-ipaV2r1"
      },
      "source": [
        "### Final Results / best params:"
      ]
    },
    {
      "cell_type": "markdown",
      "metadata": {
        "id": "gGYfKbUdWLuH"
      },
      "source": [
        "#### Params:"
      ]
    },
    {
      "cell_type": "code",
      "metadata": {
        "colab": {
          "base_uri": "https://localhost:8080/"
        },
        "id": "R281UDSCtp_r",
        "outputId": "8f705f0a-5354-4662-a62a-79d40a073587"
      },
      "source": [
        "# Set de parametros:\n",
        "K = np.arange(1, 5, 1)\n",
        "steps = np.arange(1, 5, 2)\n",
        "alpha = np.arange(0.0001, 0.0005, 0.0001)\n",
        "beta = np.arange(0.0001, 0.0005, 0.0001)\n",
        "total_loops = len(K) * len(steps) * len(alpha) * len(beta)\n",
        "param_grid = {}\n",
        "param_grid = K, steps, alpha, beta\n",
        "print(len(steps))\n",
        "print(len(alpha))\n",
        "print(len(beta))\n",
        "print(total_loops)\n",
        "print(param_grid)"
      ],
      "execution_count": null,
      "outputs": [
        {
          "output_type": "stream",
          "text": [
            "2\n",
            "4\n",
            "4\n",
            "128\n",
            "(array([1, 2, 3, 4]), array([1, 3]), array([0.0001, 0.0002, 0.0003, 0.0004]), array([0.0001, 0.0002, 0.0003, 0.0004]))\n"
          ],
          "name": "stdout"
        }
      ]
    },
    {
      "cell_type": "markdown",
      "metadata": {
        "id": "RvDy20ckXp2o"
      },
      "source": [
        "#### Grid search run:"
      ]
    },
    {
      "cell_type": "code",
      "metadata": {
        "id": "aVDLCg1LFJ_Y"
      },
      "source": [
        "results = grid_search(train, val, param_grid)"
      ],
      "execution_count": null,
      "outputs": []
    },
    {
      "cell_type": "markdown",
      "metadata": {
        "id": "SiEVi24MWT2M"
      },
      "source": [
        "## Best results:"
      ]
    },
    {
      "cell_type": "code",
      "metadata": {
        "id": "FZK94ePNQLEo"
      },
      "source": [
        "results1 = results.copy()"
      ],
      "execution_count": null,
      "outputs": []
    },
    {
      "cell_type": "code",
      "metadata": {
        "id": "3hLVzKVMQK2V"
      },
      "source": [
        "results1 = pd.DataFrame(results1, columns=['params','mse'])"
      ],
      "execution_count": null,
      "outputs": []
    },
    {
      "cell_type": "code",
      "metadata": {
        "colab": {
          "base_uri": "https://localhost:8080/",
          "height": 359
        },
        "id": "hm9CyrNgROVs",
        "outputId": "24c51b64-25da-4669-acca-300c9021fb22"
      },
      "source": [
        "results1.sort_values(by='mse').head(10)"
      ],
      "execution_count": null,
      "outputs": [
        {
          "output_type": "execute_result",
          "data": {
            "text/html": [
              "<div>\n",
              "<style scoped>\n",
              "    .dataframe tbody tr th:only-of-type {\n",
              "        vertical-align: middle;\n",
              "    }\n",
              "\n",
              "    .dataframe tbody tr th {\n",
              "        vertical-align: top;\n",
              "    }\n",
              "\n",
              "    .dataframe thead th {\n",
              "        text-align: right;\n",
              "    }\n",
              "</style>\n",
              "<table border=\"1\" class=\"dataframe\">\n",
              "  <thead>\n",
              "    <tr style=\"text-align: right;\">\n",
              "      <th></th>\n",
              "      <th>params</th>\n",
              "      <th>mse</th>\n",
              "    </tr>\n",
              "  </thead>\n",
              "  <tbody>\n",
              "    <tr>\n",
              "      <th>3</th>\n",
              "      <td>(1, 1, 0.0001, 0.0004)</td>\n",
              "      <td>0.264825</td>\n",
              "    </tr>\n",
              "    <tr>\n",
              "      <th>1</th>\n",
              "      <td>(1, 1, 0.0001, 0.0002)</td>\n",
              "      <td>0.276323</td>\n",
              "    </tr>\n",
              "    <tr>\n",
              "      <th>5</th>\n",
              "      <td>(1, 1, 0.0002, 0.0002)</td>\n",
              "      <td>0.282097</td>\n",
              "    </tr>\n",
              "    <tr>\n",
              "      <th>9</th>\n",
              "      <td>(1, 1, 0.00030000000000000003, 0.0002)</td>\n",
              "      <td>0.291150</td>\n",
              "    </tr>\n",
              "    <tr>\n",
              "      <th>2</th>\n",
              "      <td>(1, 1, 0.0001, 0.00030000000000000003)</td>\n",
              "      <td>0.294133</td>\n",
              "    </tr>\n",
              "    <tr>\n",
              "      <th>10</th>\n",
              "      <td>(1, 1, 0.00030000000000000003, 0.0003000000000...</td>\n",
              "      <td>0.297029</td>\n",
              "    </tr>\n",
              "    <tr>\n",
              "      <th>6</th>\n",
              "      <td>(1, 1, 0.0002, 0.00030000000000000003)</td>\n",
              "      <td>0.300163</td>\n",
              "    </tr>\n",
              "    <tr>\n",
              "      <th>0</th>\n",
              "      <td>(1, 1, 0.0001, 0.0001)</td>\n",
              "      <td>0.300311</td>\n",
              "    </tr>\n",
              "    <tr>\n",
              "      <th>12</th>\n",
              "      <td>(1, 1, 0.0004, 0.0001)</td>\n",
              "      <td>0.310252</td>\n",
              "    </tr>\n",
              "    <tr>\n",
              "      <th>19</th>\n",
              "      <td>(1, 3, 0.0001, 0.0004)</td>\n",
              "      <td>0.310861</td>\n",
              "    </tr>\n",
              "  </tbody>\n",
              "</table>\n",
              "</div>"
            ],
            "text/plain": [
              "                                               params       mse\n",
              "3                              (1, 1, 0.0001, 0.0004)  0.264825\n",
              "1                              (1, 1, 0.0001, 0.0002)  0.276323\n",
              "5                              (1, 1, 0.0002, 0.0002)  0.282097\n",
              "9              (1, 1, 0.00030000000000000003, 0.0002)  0.291150\n",
              "2              (1, 1, 0.0001, 0.00030000000000000003)  0.294133\n",
              "10  (1, 1, 0.00030000000000000003, 0.0003000000000...  0.297029\n",
              "6              (1, 1, 0.0002, 0.00030000000000000003)  0.300163\n",
              "0                              (1, 1, 0.0001, 0.0001)  0.300311\n",
              "12                             (1, 1, 0.0004, 0.0001)  0.310252\n",
              "19                             (1, 3, 0.0001, 0.0004)  0.310861"
            ]
          },
          "metadata": {
            "tags": []
          },
          "execution_count": 182
        }
      ]
    },
    {
      "cell_type": "code",
      "metadata": {
        "id": "Wkau1HhtLhDo"
      },
      "source": [
        "results2 = results1.sort_values(by='mse')"
      ],
      "execution_count": null,
      "outputs": []
    },
    {
      "cell_type": "code",
      "metadata": {
        "colab": {
          "base_uri": "https://localhost:8080/"
        },
        "id": "K3oVs69HTxH4",
        "outputId": "e3598f47-6027-4622-bf92-9fdd654b019b"
      },
      "source": [
        "results2.mse[1]"
      ],
      "execution_count": null,
      "outputs": [
        {
          "output_type": "execute_result",
          "data": {
            "text/plain": [
              "0.27632346207146236"
            ]
          },
          "metadata": {
            "tags": []
          },
          "execution_count": 184
        }
      ]
    },
    {
      "cell_type": "code",
      "metadata": {
        "id": "H_JYwOyxT3t_"
      },
      "source": [
        "fat = MatrixFactorization(pd.DataFrame(train), 1, 1, 0.0001, 0.0002)\n",
        "fat.fit()\n",
        "pred_final = fat.predict()"
      ],
      "execution_count": null,
      "outputs": []
    },
    {
      "cell_type": "code",
      "metadata": {
        "colab": {
          "base_uri": "https://localhost:8080/"
        },
        "id": "hH3yySbVUjF3",
        "outputId": "58a03fff-9e3e-4509-bc2e-8296640236f3"
      },
      "source": [
        "final_mse = make_chess(test, pred_final, print_=True)"
      ],
      "execution_count": null,
      "outputs": [
        {
          "output_type": "stream",
          "text": [
            "Total de instancias no dataset original:  29360\n",
            "Total de instancias zeradas:  6240\n",
            "Total de predicoes em pred e val:  23120\n",
            "% de predicoes em pred e val em comparacao ao dataset original: 21.25 %\n"
          ],
          "name": "stdout"
        }
      ]
    },
    {
      "cell_type": "markdown",
      "metadata": {
        "id": "WrtR4gOiWx_2"
      },
      "source": [
        "## Final result:"
      ]
    },
    {
      "cell_type": "code",
      "metadata": {
        "colab": {
          "base_uri": "https://localhost:8080/"
        },
        "id": "frn8OhFrVqL2",
        "outputId": "20a73eb0-4469-49f3-a70e-7c09f9311fa1"
      },
      "source": [
        "results2.mse[1], final_mse"
      ],
      "execution_count": null,
      "outputs": [
        {
          "output_type": "execute_result",
          "data": {
            "text/plain": [
              "(0.27632346207146236, 0.285173715730375)"
            ]
          },
          "metadata": {
            "tags": []
          },
          "execution_count": 187
        }
      ]
    }
  ]
}